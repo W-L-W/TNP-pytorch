{
 "cells": [
  {
   "cell_type": "code",
   "execution_count": 2,
   "metadata": {},
   "outputs": [],
   "source": [
    "import torch as t"
   ]
  },
  {
   "cell_type": "code",
   "execution_count": 37,
   "metadata": {},
   "outputs": [],
   "source": [
    "class AttrDictLite:\n",
    "    \"\"\"Lightweight implementation of attribute dictionary (by Lennie).\n",
    "    Class only supports attribute access and setting.\n",
    "    However it has a dictionary property for when one wants a plain dictionary interface.\n",
    "    \"\"\"\n",
    "    def __init__(self, **kwargs):\n",
    "        self.__dict__.update(kwargs)\n",
    "        \n",
    "    @property\n",
    "    def dictionary(self):\n",
    "        return self.__dict__\n",
    "\n",
    "    def __repr__(self):\n",
    "        return f'{self.__class__.__name__}({str(self.dictionary)}'"
   ]
  },
  {
   "cell_type": "code",
   "execution_count": 44,
   "metadata": {},
   "outputs": [
    {
     "ename": "SyntaxError",
     "evalue": "arguments cannot follow var-keyword argument (603878926.py, line 21)",
     "output_type": "error",
     "traceback": [
      "\u001b[0;36m  Cell \u001b[0;32mIn[44], line 21\u001b[0;36m\u001b[0m\n\u001b[0;31m    def load_torch(cls, f, **kwargs, *, weights_only=False, mmap=None, **pickle_load_args):\u001b[0m\n\u001b[0m                                     ^\u001b[0m\n\u001b[0;31mSyntaxError\u001b[0m\u001b[0;31m:\u001b[0m arguments cannot follow var-keyword argument\n"
     ]
    }
   ],
   "source": [
    "class AttrDict:\n",
    "    \"\"\"Lightweight implementation of attribute dictionary (by Lennie).\n",
    "    Class only supports attribute access and setting.\n",
    "    However it has a dictionary property for when one wants a plain dictionary interface.\n",
    "    \"\"\"\n",
    "    def __init__(self, **kwargs):\n",
    "        self.__dict__.update(kwargs)\n",
    "        \n",
    "    @property\n",
    "    def dictionary(self):\n",
    "        return self.__dict__\n",
    "\n",
    "    def __repr__(self):\n",
    "        return f'{self.__class__.__name__}({str(self.dictionary)}'\n",
    "\n",
    "    def save_torch(self, f):\n",
    "        \"\"\"Save attr dict to torch file.\"\"\"\n",
    "        torch.save(self.dictionary, f)\n",
    "\n",
    "    @classmethod\n",
    "    def load_torch(cls, f, **kwargs, *, weights_only=False, mmap=None, **pickle_load_args):\n",
    "        \"\"\"Load attr dict from torch file.\"\"\"\n",
    "        torch_dict = torch.load(f, **kwargs, weights_only=weights_only, mmap=mmap, **pickle_load_args)\n",
    "        return cls.__init__(**torch_dict)"
   ]
  },
  {
   "cell_type": "code",
   "execution_count": 38,
   "metadata": {},
   "outputs": [],
   "source": [
    "adl = ADLennie(a=1, b=2)"
   ]
  },
  {
   "cell_type": "code",
   "execution_count": 39,
   "metadata": {},
   "outputs": [],
   "source": [
    "t.save(adl.dictionary, '_save_test.tar')"
   ]
  },
  {
   "cell_type": "code",
   "execution_count": 40,
   "metadata": {},
   "outputs": [],
   "source": [
    "adl2 = ADLennie(**t.load('_save_test.tar', weights_only=True))"
   ]
  },
  {
   "cell_type": "code",
   "execution_count": 41,
   "metadata": {},
   "outputs": [
    {
     "data": {
      "text/plain": [
       "AttrDictLite({'a': 1, 'b': 2}"
      ]
     },
     "execution_count": 41,
     "metadata": {},
     "output_type": "execute_result"
    }
   ],
   "source": [
    "adl2"
   ]
  },
  {
   "cell_type": "code",
   "execution_count": 33,
   "metadata": {},
   "outputs": [],
   "source": [
    "dc = TestDC(1, 2)"
   ]
  },
  {
   "cell_type": "code",
   "execution_count": 6,
   "metadata": {},
   "outputs": [],
   "source": [
    "dc.c = 4"
   ]
  },
  {
   "cell_type": "code",
   "execution_count": 7,
   "metadata": {},
   "outputs": [
    {
     "ename": "SyntaxError",
     "evalue": "invalid syntax (3413893423.py, line 1)",
     "output_type": "error",
     "traceback": [
      "\u001b[0;36m  Cell \u001b[0;32mIn[7], line 1\u001b[0;36m\u001b[0m\n\u001b[0;31m    dc =\u001b[0m\n\u001b[0m         ^\u001b[0m\n\u001b[0;31mSyntaxError\u001b[0m\u001b[0;31m:\u001b[0m invalid syntax\n"
     ]
    }
   ],
   "source": [
    "dc = "
   ]
  },
  {
   "cell_type": "code",
   "execution_count": 46,
   "metadata": {},
   "outputs": [
    {
     "name": "stdout",
     "output_type": "stream",
     "text": [
      "\u001b[0;31mSignature:\u001b[0m\n",
      "\u001b[0mt\u001b[0m\u001b[0;34m.\u001b[0m\u001b[0mload\u001b[0m\u001b[0;34m(\u001b[0m\u001b[0;34m\u001b[0m\n",
      "\u001b[0;34m\u001b[0m    \u001b[0mf\u001b[0m\u001b[0;34m:\u001b[0m \u001b[0mUnion\u001b[0m\u001b[0;34m[\u001b[0m\u001b[0mstr\u001b[0m\u001b[0;34m,\u001b[0m \u001b[0mos\u001b[0m\u001b[0;34m.\u001b[0m\u001b[0mPathLike\u001b[0m\u001b[0;34m,\u001b[0m \u001b[0mBinaryIO\u001b[0m\u001b[0;34m,\u001b[0m \u001b[0mIO\u001b[0m\u001b[0;34m[\u001b[0m\u001b[0mbytes\u001b[0m\u001b[0;34m]\u001b[0m\u001b[0;34m]\u001b[0m\u001b[0;34m,\u001b[0m\u001b[0;34m\u001b[0m\n",
      "\u001b[0;34m\u001b[0m    \u001b[0mmap_location\u001b[0m\u001b[0;34m:\u001b[0m \u001b[0mUnion\u001b[0m\u001b[0;34m[\u001b[0m\u001b[0mCallable\u001b[0m\u001b[0;34m[\u001b[0m\u001b[0;34m[\u001b[0m\u001b[0mtorch\u001b[0m\u001b[0;34m.\u001b[0m\u001b[0mtypes\u001b[0m\u001b[0;34m.\u001b[0m\u001b[0mStorage\u001b[0m\u001b[0;34m,\u001b[0m \u001b[0mstr\u001b[0m\u001b[0;34m]\u001b[0m\u001b[0;34m,\u001b[0m \u001b[0mtorch\u001b[0m\u001b[0;34m.\u001b[0m\u001b[0mtypes\u001b[0m\u001b[0;34m.\u001b[0m\u001b[0mStorage\u001b[0m\u001b[0;34m]\u001b[0m\u001b[0;34m,\u001b[0m \u001b[0mtorch\u001b[0m\u001b[0;34m.\u001b[0m\u001b[0mdevice\u001b[0m\u001b[0;34m,\u001b[0m \u001b[0mstr\u001b[0m\u001b[0;34m,\u001b[0m \u001b[0mDict\u001b[0m\u001b[0;34m[\u001b[0m\u001b[0mstr\u001b[0m\u001b[0;34m,\u001b[0m \u001b[0mstr\u001b[0m\u001b[0;34m]\u001b[0m\u001b[0;34m,\u001b[0m \u001b[0mNoneType\u001b[0m\u001b[0;34m]\u001b[0m \u001b[0;34m=\u001b[0m \u001b[0;32mNone\u001b[0m\u001b[0;34m,\u001b[0m\u001b[0;34m\u001b[0m\n",
      "\u001b[0;34m\u001b[0m    \u001b[0mpickle_module\u001b[0m\u001b[0;34m:\u001b[0m \u001b[0mAny\u001b[0m \u001b[0;34m=\u001b[0m \u001b[0;32mNone\u001b[0m\u001b[0;34m,\u001b[0m\u001b[0;34m\u001b[0m\n",
      "\u001b[0;34m\u001b[0m    \u001b[0;34m*\u001b[0m\u001b[0;34m,\u001b[0m\u001b[0;34m\u001b[0m\n",
      "\u001b[0;34m\u001b[0m    \u001b[0mweights_only\u001b[0m\u001b[0;34m:\u001b[0m \u001b[0mOptional\u001b[0m\u001b[0;34m[\u001b[0m\u001b[0mbool\u001b[0m\u001b[0;34m]\u001b[0m \u001b[0;34m=\u001b[0m \u001b[0;32mNone\u001b[0m\u001b[0;34m,\u001b[0m\u001b[0;34m\u001b[0m\n",
      "\u001b[0;34m\u001b[0m    \u001b[0mmmap\u001b[0m\u001b[0;34m:\u001b[0m \u001b[0mOptional\u001b[0m\u001b[0;34m[\u001b[0m\u001b[0mbool\u001b[0m\u001b[0;34m]\u001b[0m \u001b[0;34m=\u001b[0m \u001b[0;32mNone\u001b[0m\u001b[0;34m,\u001b[0m\u001b[0;34m\u001b[0m\n",
      "\u001b[0;34m\u001b[0m    \u001b[0;34m**\u001b[0m\u001b[0mpickle_load_args\u001b[0m\u001b[0;34m:\u001b[0m \u001b[0mAny\u001b[0m\u001b[0;34m,\u001b[0m\u001b[0;34m\u001b[0m\n",
      "\u001b[0;34m\u001b[0m\u001b[0;34m)\u001b[0m \u001b[0;34m->\u001b[0m \u001b[0mAny\u001b[0m\u001b[0;34m\u001b[0m\u001b[0;34m\u001b[0m\u001b[0m\n",
      "\u001b[0;31mDocstring:\u001b[0m\n",
      "load(f, map_location=None, pickle_module=pickle, *, weights_only=False, mmap=None, **pickle_load_args)\n",
      "\n",
      "Loads an object saved with :func:`torch.save` from a file.\n",
      "\n",
      ":func:`torch.load` uses Python's unpickling facilities but treats storages,\n",
      "which underlie tensors, specially. They are first deserialized on the\n",
      "CPU and are then moved to the device they were saved from. If this fails\n",
      "(e.g. because the run time system doesn't have certain devices), an exception\n",
      "is raised. However, storages can be dynamically remapped to an alternative\n",
      "set of devices using the :attr:`map_location` argument.\n",
      "\n",
      "If :attr:`map_location` is a callable, it will be called once for each serialized\n",
      "storage with two arguments: storage and location. The storage argument\n",
      "will be the initial deserialization of the storage, residing on the CPU.\n",
      "Each serialized storage has a location tag associated with it which\n",
      "identifies the device it was saved from, and this tag is the second\n",
      "argument passed to :attr:`map_location`. The builtin location tags are ``'cpu'``\n",
      "for CPU tensors and ``'cuda:device_id'`` (e.g. ``'cuda:2'``) for CUDA tensors.\n",
      ":attr:`map_location` should return either ``None`` or a storage. If\n",
      ":attr:`map_location` returns a storage, it will be used as the final deserialized\n",
      "object, already moved to the right device. Otherwise, :func:`torch.load` will\n",
      "fall back to the default behavior, as if :attr:`map_location` wasn't specified.\n",
      "\n",
      "If :attr:`map_location` is a :class:`torch.device` object or a string containing\n",
      "a device tag, it indicates the location where all tensors should be loaded.\n",
      "\n",
      "Otherwise, if :attr:`map_location` is a dict, it will be used to remap location tags\n",
      "appearing in the file (keys), to ones that specify where to put the\n",
      "storages (values).\n",
      "\n",
      "User extensions can register their own location tags and tagging and\n",
      "deserialization methods using :func:`torch.serialization.register_package`.\n",
      "\n",
      "Args:\n",
      "    f: a file-like object (has to implement :meth:`read`, :meth:`readline`, :meth:`tell`, and :meth:`seek`),\n",
      "        or a string or os.PathLike object containing a file name\n",
      "    map_location: a function, :class:`torch.device`, string or a dict specifying how to remap storage\n",
      "        locations\n",
      "    pickle_module: module used for unpickling metadata and objects (has to\n",
      "        match the :attr:`pickle_module` used to serialize file)\n",
      "    weights_only: Indicates whether unpickler should be restricted to\n",
      "        loading only tensors, primitive types, dictionaries\n",
      "        and any types added via :func:`torch.serialization.add_safe_globals`.\n",
      "    mmap: Indicates whether the file should be mmaped rather than loading all the storages into memory.\n",
      "        Typically, tensor storages in the file will first be moved from disk to CPU memory, after which they\n",
      "        are moved to the location that they were tagged with when saving, or specified by ``map_location``. This\n",
      "        second step is a no-op if the final location is CPU. When the ``mmap`` flag is set, instead of copying the\n",
      "        tensor storages from disk to CPU memory in the first step, ``f`` is mmaped.\n",
      "    pickle_load_args: (Python 3 only) optional keyword arguments passed over to\n",
      "        :func:`pickle_module.load` and :func:`pickle_module.Unpickler`, e.g.,\n",
      "        :attr:`errors=...`.\n",
      "\n",
      ".. warning::\n",
      "    :func:`torch.load()` unless `weights_only` parameter is set to `True`,\n",
      "    uses ``pickle`` module implicitly, which is known to be insecure.\n",
      "    It is possible to construct malicious pickle data which will execute arbitrary code\n",
      "    during unpickling. Never load data that could have come from an untrusted\n",
      "    source in an unsafe mode, or that could have been tampered with. **Only load data you trust**.\n",
      "\n",
      ".. note::\n",
      "    When you call :func:`torch.load()` on a file which contains GPU tensors, those tensors\n",
      "    will be loaded to GPU by default. You can call ``torch.load(.., map_location='cpu')``\n",
      "    and then :meth:`load_state_dict` to avoid GPU RAM surge when loading a model checkpoint.\n",
      "\n",
      ".. note::\n",
      "    By default, we decode byte strings as ``utf-8``.  This is to avoid a common error\n",
      "    case ``UnicodeDecodeError: 'ascii' codec can't decode byte 0x...``\n",
      "    when loading files saved by Python 2 in Python 3.  If this default\n",
      "    is incorrect, you may use an extra :attr:`encoding` keyword argument to specify how\n",
      "    these objects should be loaded, e.g., :attr:`encoding='latin1'` decodes them\n",
      "    to strings using ``latin1`` encoding, and :attr:`encoding='bytes'` keeps them\n",
      "    as byte arrays which can be decoded later with ``byte_array.decode(...)``.\n",
      "\n",
      "Example:\n",
      "    >>> # xdoctest: +SKIP(\"undefined filepaths\")\n",
      "    >>> torch.load(\"tensors.pt\", weights_only=True)\n",
      "    # Load all tensors onto the CPU\n",
      "    >>> torch.load(\"tensors.pt\", map_location=torch.device(\"cpu\"), weights_only=True)\n",
      "    # Load all tensors onto the CPU, using a function\n",
      "    >>> torch.load(\n",
      "    ...     \"tensors.pt\", map_location=lambda storage, loc: storage, weights_only=True\n",
      "    ... )\n",
      "    # Load all tensors onto GPU 1\n",
      "    >>> torch.load(\n",
      "    ...     \"tensors.pt\",\n",
      "    ...     map_location=lambda storage, loc: storage.cuda(1),\n",
      "    ...     weights_only=True,\n",
      "    ... )  # type: ignore[attr-defined]\n",
      "    # Map tensors from GPU 1 to GPU 0\n",
      "    >>> torch.load(\"tensors.pt\", map_location={\"cuda:1\": \"cuda:0\"}, weights_only=True)\n",
      "    # Load tensor from io.BytesIO object\n",
      "    # Loading from a buffer setting weights_only=False, warning this can be unsafe\n",
      "    >>> with open(\"tensor.pt\", \"rb\") as f:\n",
      "    ...     buffer = io.BytesIO(f.read())\n",
      "    >>> torch.load(buffer, weights_only=False)\n",
      "    # Load a module with 'ascii' encoding for unpickling\n",
      "    # Loading from a module setting weights_only=False, warning this can be unsafe\n",
      "    >>> torch.load(\"module.pt\", encoding=\"ascii\", weights_only=False)\n",
      "\u001b[0;31mFile:\u001b[0m      /scratch/ww347/projects/prequential/venvs/tnp_torch/lib/python3.11/site-packages/torch/serialization.py\n",
      "\u001b[0;31mType:\u001b[0m      function"
     ]
    }
   ],
   "source": [
    "?t.load"
   ]
  },
  {
   "cell_type": "code",
   "execution_count": 9,
   "metadata": {},
   "outputs": [
    {
     "data": {
      "text/plain": [
       "4"
      ]
     },
     "execution_count": 9,
     "metadata": {},
     "output_type": "execute_result"
    }
   ],
   "source": [
    "dc.c"
   ]
  },
  {
   "cell_type": "code",
   "execution_count": null,
   "metadata": {},
   "outputs": [],
   "source": []
  }
 ],
 "metadata": {
  "kernelspec": {
   "display_name": "TNP torch",
   "language": "python",
   "name": "tnp-torch-env"
  },
  "language_info": {
   "codemirror_mode": {
    "name": "ipython",
    "version": 3
   },
   "file_extension": ".py",
   "mimetype": "text/x-python",
   "name": "python",
   "nbconvert_exporter": "python",
   "pygments_lexer": "ipython3",
   "version": "3.11.10"
  }
 },
 "nbformat": 4,
 "nbformat_minor": 2
}
